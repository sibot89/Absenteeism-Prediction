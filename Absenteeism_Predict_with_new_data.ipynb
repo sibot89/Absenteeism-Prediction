{
  "nbformat": 4,
  "nbformat_minor": 0,
  "metadata": {
    "colab": {
      "provenance": [],
      "authorship_tag": "ABX9TyOh3Fv3yLnh4mR2nqgtOFYq",
      "include_colab_link": true
    },
    "kernelspec": {
      "name": "python3",
      "display_name": "Python 3"
    },
    "language_info": {
      "name": "python"
    }
  },
  "cells": [
    {
      "cell_type": "markdown",
      "metadata": {
        "id": "view-in-github",
        "colab_type": "text"
      },
      "source": [
        "<a href=\"https://colab.research.google.com/github/sibot89/Absenteeism-Prediction/blob/main/Absenteeism_Predict_with_new_data.ipynb\" target=\"_parent\"><img src=\"https://colab.research.google.com/assets/colab-badge.svg\" alt=\"Open In Colab\"/></a>"
      ]
    },
    {
      "cell_type": "code",
      "execution_count": 8,
      "metadata": {
        "id": "ER-WK8mz2OLu"
      },
      "outputs": [],
      "source": [
        "import numpy as np\n",
        "import pandas as pd\n",
        "import pickle\n",
        "from sklearn.preprocessing import StandardScaler\n",
        "from sklearn.base import BaseEstimator, TransformerMixin\n",
        "from google.colab import files"
      ]
    },
    {
      "cell_type": "code",
      "source": [
        "class CustomScaler(BaseEstimator, TransformerMixin):\n",
        "\n",
        "  def __init__(self, columns, copy=True, with_mean=True, with_std=True):\n",
        "    self.scaler = StandardScaler(copy, with_mean, with_std)\n",
        "    self.columns = columns\n",
        "    self.mean = None\n",
        "    self.var = None\n",
        "\n",
        "  def fit(self, X, y=None):\n",
        "    self.scaler.fit(X[self.columns], y)\n",
        "    self.mean = np.mean(X[self.columns])\n",
        "    self.var = np.var(X[self.columns])\n",
        "    return self\n",
        "\n",
        "  def transform(self, X, y=None, copy=None):\n",
        "    init_col_order = X.columns\n",
        "    X_scaled = pd.DataFrame(self.scaler.transform(X[self.columns]),\n",
        "                            columns=self.columns)\n",
        "    X_not_scaled = X.loc[:, ~X.columns.isin(self.columns)]\n",
        "    return pd.concat([X_not_scaled, X_scaled], axis=1)[init_col_order]\n"
      ],
      "metadata": {
        "id": "Wb61F8RL3Omy"
      },
      "execution_count": 9,
      "outputs": []
    },
    {
      "cell_type": "code",
      "source": [
        "class predict_new_data():\n",
        "\n",
        "  def __init__(self, model_file, scaler_file):\n",
        "    # with open('Model', 'rb') as model_file, open('Scaler', 'rb') as scaler_file\n",
        "    model_file = files.download('Model', 'rb')\n",
        "    scaler_file = files.download('Scaler', 'rb')\n",
        "    self.reg = pickle.load(model_file)\n",
        "    self.scaler = pickle.load(scaler_file)\n",
        "    self.data = None\n",
        "\n",
        "  def load_and_clean_data(self, data_file):\n",
        "    df = pd.read_csv(data_file, delimiter=',')\n",
        "    self.df_with_predictions = df.copy()\n",
        "    df = df.drop(['ID'], axis=1)\n",
        "    df['Absenteeism Time in Hour'] = 'NaN'\n",
        "\n",
        "    reason_columns = pd.get_dummies(df['Reason for Absence'], drop_first=True)\n",
        "    reason_type1 = reason_columns.loc[:,1:14].max(axis=1)\n",
        "    reason_type2 = reason_columns.loc[:,15:17].max(axis=1)\n",
        "    reason_type3 = reason_columns.loc[:,18:21].max(axis=1)\n",
        "    reason_type4 = reason_columns.loc[:,22:].max(axis=1)\n",
        "\n",
        "    df = df.drop(['Reason for Absence'], axis=1)\n",
        "    df = pd.concat([df, reason_type1, reason_type2, reason_type3, reason_type4], axis=1)\n",
        "\n",
        "    reordered_columns = ['Reason1', 'Reason2', 'Reason3', 'Reason4', 'Date', 'Transportation Expense', 'Distance to Work', 'Age',\n",
        "       'Daily Work Load Average(in Minutes)', 'Body Mass Index',\n",
        "       'Education', 'Children', 'Pets', 'Absenteeism Time in Hours']\n",
        "    df = df[reordered_columns]\n",
        "\n",
        "    df['Date'] = pd.to_datetime(df['Date'])\n",
        "\n",
        "\n",
        "    df['Month'] = df['Date'].apply(lambda x: x.month)\n",
        "\n",
        "    df = df.drop(['Date'], axis=1)\n",
        "\n",
        "    df['Education'] = df['Education'].map({1:0, 2:1, 3:1, 4:1})\n",
        "\n",
        "    reordered_names = ['Reason1', 'Reason2', 'Reason3', 'Reason4', 'Month', 'Day of the Week',\n",
        "       'Transportation Expense', 'Distance to Work', 'Age',\n",
        "       'Daily Work Load Average(in Minutes)', 'Body Mass Index',\n",
        "       'Education', 'Children', 'Pets', 'Absenteeism Time in Hours']\n",
        "    df = df[reordered_names]\n",
        "\n",
        "    df = df.drop(['Absenteeism Time in Hours', 'Daily Work Load Average',\n",
        "                  'Distance to Work'], axis=1)\n",
        "\n",
        "    self.preprocessed_data = df.copy()\n",
        "\n",
        "    self.data = self.scaler.transform(df)\n",
        "\n",
        "  def predicted_probability(self):\n",
        "       if (self.data is not None):\n",
        "          pred = self.reg.predict_proba(self.data)[:,1]\n",
        "          return pred\n",
        "\n",
        "  def predicted_output_category(self):\n",
        "            if (self.data is not None):\n",
        "                pred_outputs = self.reg.predict(self.data)\n",
        "                return pred_outputs\n",
        "\n",
        "  def predicted_outputs(self):\n",
        "            if (self.data is not None):\n",
        "                self.preprocessed_data['Probability'] = self.reg.predict_proba(self.data)[:,1]\n",
        "                self.preprocessed_data ['Prediction'] = self.reg.predict(self.data)\n",
        "                return self.preprocessed_data\n",
        "\n",
        "\n",
        "\n"
      ],
      "metadata": {
        "id": "ZDTe4aYE5us1"
      },
      "execution_count": 10,
      "outputs": []
    },
    {
      "cell_type": "code",
      "source": [],
      "metadata": {
        "id": "8igB7_k5Tkz_"
      },
      "execution_count": null,
      "outputs": []
    }
  ]
}